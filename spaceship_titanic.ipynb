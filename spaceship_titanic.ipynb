{
 "cells": [
  {
   "cell_type": "markdown",
   "id": "55067df1",
   "metadata": {},
   "source": [
    "## Table of Contents\n",
    "- [Overview](#overview)\n",
    "- [Dataset Description](#describe)\n",
    "- [Data Gathering](#gather)\n",
    "- [Exploratory Data Analysis](#EDA)\n",
    "- [Data Preprocessing](#process)\n",
    "- [Modeling](#model)\n",
    "- [Conclusion](#conclude)"
   ]
  },
  {
   "cell_type": "markdown",
   "id": "536137c4",
   "metadata": {},
   "source": [
    "<a id='overview'></a>\n",
    "## Overview\n",
    "Welcome to the year 2912, where your data science skills are needed to solve a cosmic mystery. We've received a transmission from four lightyears away and things aren't looking good.\n",
    "\n",
    "The Spaceship Titanic was an interstellar passenger liner launched a month ago. With almost 13,000 passengers on board, the vessel set out on its maiden voyage transporting emigrants from our solar system to three newly habitable exoplanets orbiting nearby stars.\n",
    "\n",
    "While rounding Alpha Centauri en route to its first destination—the torrid 55 Cancri E—the unwary Spaceship Titanic collided with a spacetime anomaly hidden within a dust cloud. Sadly, it met a similar fate as its namesake from 1000 years before. Though the ship stayed intact, almost half of the passengers were transported to an alternate dimension!\n",
    "\n",
    "\n",
    "To help rescue crews and retrieve the lost passengers, you are challenged to predict which passengers were transported by the anomaly using records recovered from the spaceship’s damaged computer system.\n",
    "\n",
    "Help save them and change history!"
   ]
  },
  {
   "cell_type": "markdown",
   "id": "a95fd4fb",
   "metadata": {},
   "source": [
    "<a id='describe'></a>\n",
    "## Dataset Description\n",
    "In this competition your task is to predict whether a passenger was transported to an alternate dimension during the Spaceship Titanic's collision with the spacetime anomaly. To help you make these predictions, you're given a set of personal records recovered from the ship's damaged computer system.\n",
    "\n",
    "### File and Data Field Descriptions\n",
    "\n",
    "1. `train.csv` - Personal records for about two-thirds (~8700) of the passengers, to be used as training data. It contains the following columns:\n",
    "- PassengerId - A unique Id for each passenger. Each Id takes the form gggg_pp where gggg indicates a group the passenger is travelling with and pp is their number within the group. People in a group are often family members, but not always.\n",
    "- HomePlanet - The planet the passenger departed from, typically their planet of permanent residence.\n",
    "- CryoSleep - Indicates whether the passenger elected to be put into suspended animation for the duration of the voyage. Passengers in cryosleep are confined to their cabins.\n",
    "- Cabin - The cabin number where the passenger is staying. Takes the form deck/num/side, where side can be either P for Port or S for Starboard.\n",
    "- Destination - The planet the passenger will be debarking to.\n",
    "- Age - The age of the passenger.\n",
    "- VIP - Whether the passenger has paid for special VIP service during the voyage.\n",
    "- RoomService, FoodCourt, ShoppingMall, Spa, VRDeck - Amount the passenger has billed at each of the Spaceship Titanic's many luxury amenities.\n",
    "- Name - The first and last names of the passenger.\n",
    "- Transported - Whether the passenger was transported to another dimension. This is the target, the column you are trying to predict.<br>\n",
    "\n",
    "2. `test.csv` - Personal records for the remaining one-third (~4300) of the passengers, to be used as test data. Your task is to predict the value of Transported for the passengers in this set.<br>\n",
    "\n",
    "3. `sample_submission.csv` - A submission file in the correct format.\n",
    "- PassengerId - Id for each passenger in the test set.\n",
    "- Transported - The target. For each passenger, predict either True or False.\n"
   ]
  },
  {
   "cell_type": "code",
   "execution_count": 1,
   "id": "3ce40ee1",
   "metadata": {},
   "outputs": [],
   "source": [
    "# Load the necessary libraries\n",
    "import zipfile\n",
    "import pandas as pd\n",
    "import numpy as np\n",
    "import matplotlib.pyplot as plt\n",
    "import seaborn as sns\n",
    "\n",
    "from sklearn.metrics import f1_score\n",
    "from sklearn.ensemble import RandomForestClassifier\n",
    "from sklearn.model_selection import train_test_split\n",
    "from sklearn.svm import SVC\n",
    "from sklearn.preprocessing import StandardScaler\n",
    "from sklearn.model_selection import GridSearchCV\n",
    "\n",
    "import pickle\n",
    "import os\n",
    "\n",
    "%matplotlib inline"
   ]
  },
  {
   "cell_type": "markdown",
   "id": "a5d692c2",
   "metadata": {},
   "source": [
    "<a id='gather'></a>\n",
    "## Data Gathering"
   ]
  },
  {
   "cell_type": "code",
   "execution_count": 2,
   "id": "509c82be",
   "metadata": {},
   "outputs": [],
   "source": [
    "# Unzip files\n",
    "with zipfile.ZipFile('spaceship-titanic.zip', 'r') as f:\n",
    "    f.extractall()"
   ]
  },
  {
   "cell_type": "code",
   "execution_count": 3,
   "id": "99bb131a",
   "metadata": {},
   "outputs": [
    {
     "data": {
      "text/plain": [
       "['.ipynb_checkpoints',\n",
       " 'corr_test.png',\n",
       " 'corr_train.png',\n",
       " 'hist_test.png',\n",
       " 'hist_train.png',\n",
       " 'homeplanet.png',\n",
       " 'result.csv',\n",
       " 'sample_submission.csv',\n",
       " 'spaceship-titanic.zip',\n",
       " 'test.csv',\n",
       " 'train.csv',\n",
       " 'Untitled.ipynb']"
      ]
     },
     "execution_count": 3,
     "metadata": {},
     "output_type": "execute_result"
    }
   ],
   "source": [
    "# Check available files in current directory\n",
    "os.listdir()"
   ]
  },
  {
   "cell_type": "code",
   "execution_count": 4,
   "id": "b7644e86",
   "metadata": {},
   "outputs": [],
   "source": [
    "# Read files into dataframe\n",
    "sample_df = pd.read_csv('sample_submission.csv')\n",
    "train_df = pd.read_csv('train.csv')\n",
    "test_df = pd.read_csv('test.csv')"
   ]
  },
  {
   "cell_type": "markdown",
   "id": "a4ae659b",
   "metadata": {},
   "source": [
    "<a id='EDA'></a>\n",
    "## Exploratory Data Analysis"
   ]
  },
  {
   "cell_type": "code",
   "execution_count": 5,
   "id": "baed907c",
   "metadata": {
    "scrolled": false
   },
   "outputs": [
    {
     "data": {
      "text/html": [
       "<div>\n",
       "<style scoped>\n",
       "    .dataframe tbody tr th:only-of-type {\n",
       "        vertical-align: middle;\n",
       "    }\n",
       "\n",
       "    .dataframe tbody tr th {\n",
       "        vertical-align: top;\n",
       "    }\n",
       "\n",
       "    .dataframe thead th {\n",
       "        text-align: right;\n",
       "    }\n",
       "</style>\n",
       "<table border=\"1\" class=\"dataframe\">\n",
       "  <thead>\n",
       "    <tr style=\"text-align: right;\">\n",
       "      <th></th>\n",
       "      <th>PassengerId</th>\n",
       "      <th>Transported</th>\n",
       "    </tr>\n",
       "  </thead>\n",
       "  <tbody>\n",
       "    <tr>\n",
       "      <th>0</th>\n",
       "      <td>0013_01</td>\n",
       "      <td>False</td>\n",
       "    </tr>\n",
       "    <tr>\n",
       "      <th>1</th>\n",
       "      <td>0018_01</td>\n",
       "      <td>False</td>\n",
       "    </tr>\n",
       "    <tr>\n",
       "      <th>2</th>\n",
       "      <td>0019_01</td>\n",
       "      <td>False</td>\n",
       "    </tr>\n",
       "    <tr>\n",
       "      <th>3</th>\n",
       "      <td>0021_01</td>\n",
       "      <td>False</td>\n",
       "    </tr>\n",
       "    <tr>\n",
       "      <th>4</th>\n",
       "      <td>0023_01</td>\n",
       "      <td>False</td>\n",
       "    </tr>\n",
       "  </tbody>\n",
       "</table>\n",
       "</div>"
      ],
      "text/plain": [
       "  PassengerId  Transported\n",
       "0     0013_01        False\n",
       "1     0018_01        False\n",
       "2     0019_01        False\n",
       "3     0021_01        False\n",
       "4     0023_01        False"
      ]
     },
     "execution_count": 5,
     "metadata": {},
     "output_type": "execute_result"
    }
   ],
   "source": [
    "# Print first 5 rows\n",
    "sample_df.head()"
   ]
  },
  {
   "cell_type": "code",
   "execution_count": 6,
   "id": "6d7ec016",
   "metadata": {
    "scrolled": true
   },
   "outputs": [
    {
     "data": {
      "text/html": [
       "<div>\n",
       "<style scoped>\n",
       "    .dataframe tbody tr th:only-of-type {\n",
       "        vertical-align: middle;\n",
       "    }\n",
       "\n",
       "    .dataframe tbody tr th {\n",
       "        vertical-align: top;\n",
       "    }\n",
       "\n",
       "    .dataframe thead th {\n",
       "        text-align: right;\n",
       "    }\n",
       "</style>\n",
       "<table border=\"1\" class=\"dataframe\">\n",
       "  <thead>\n",
       "    <tr style=\"text-align: right;\">\n",
       "      <th></th>\n",
       "      <th>PassengerId</th>\n",
       "      <th>HomePlanet</th>\n",
       "      <th>CryoSleep</th>\n",
       "      <th>Cabin</th>\n",
       "      <th>Destination</th>\n",
       "      <th>Age</th>\n",
       "      <th>VIP</th>\n",
       "      <th>RoomService</th>\n",
       "      <th>FoodCourt</th>\n",
       "      <th>ShoppingMall</th>\n",
       "      <th>Spa</th>\n",
       "      <th>VRDeck</th>\n",
       "      <th>Name</th>\n",
       "    </tr>\n",
       "  </thead>\n",
       "  <tbody>\n",
       "    <tr>\n",
       "      <th>0</th>\n",
       "      <td>0013_01</td>\n",
       "      <td>Earth</td>\n",
       "      <td>True</td>\n",
       "      <td>G/3/S</td>\n",
       "      <td>TRAPPIST-1e</td>\n",
       "      <td>27.0</td>\n",
       "      <td>False</td>\n",
       "      <td>0.0</td>\n",
       "      <td>0.0</td>\n",
       "      <td>0.0</td>\n",
       "      <td>0.0</td>\n",
       "      <td>0.0</td>\n",
       "      <td>Nelly Carsoning</td>\n",
       "    </tr>\n",
       "    <tr>\n",
       "      <th>1</th>\n",
       "      <td>0018_01</td>\n",
       "      <td>Earth</td>\n",
       "      <td>False</td>\n",
       "      <td>F/4/S</td>\n",
       "      <td>TRAPPIST-1e</td>\n",
       "      <td>19.0</td>\n",
       "      <td>False</td>\n",
       "      <td>0.0</td>\n",
       "      <td>9.0</td>\n",
       "      <td>0.0</td>\n",
       "      <td>2823.0</td>\n",
       "      <td>0.0</td>\n",
       "      <td>Lerome Peckers</td>\n",
       "    </tr>\n",
       "    <tr>\n",
       "      <th>2</th>\n",
       "      <td>0019_01</td>\n",
       "      <td>Europa</td>\n",
       "      <td>True</td>\n",
       "      <td>C/0/S</td>\n",
       "      <td>55 Cancri e</td>\n",
       "      <td>31.0</td>\n",
       "      <td>False</td>\n",
       "      <td>0.0</td>\n",
       "      <td>0.0</td>\n",
       "      <td>0.0</td>\n",
       "      <td>0.0</td>\n",
       "      <td>0.0</td>\n",
       "      <td>Sabih Unhearfus</td>\n",
       "    </tr>\n",
       "    <tr>\n",
       "      <th>3</th>\n",
       "      <td>0021_01</td>\n",
       "      <td>Europa</td>\n",
       "      <td>False</td>\n",
       "      <td>C/1/S</td>\n",
       "      <td>TRAPPIST-1e</td>\n",
       "      <td>38.0</td>\n",
       "      <td>False</td>\n",
       "      <td>0.0</td>\n",
       "      <td>6652.0</td>\n",
       "      <td>0.0</td>\n",
       "      <td>181.0</td>\n",
       "      <td>585.0</td>\n",
       "      <td>Meratz Caltilter</td>\n",
       "    </tr>\n",
       "    <tr>\n",
       "      <th>4</th>\n",
       "      <td>0023_01</td>\n",
       "      <td>Earth</td>\n",
       "      <td>False</td>\n",
       "      <td>F/5/S</td>\n",
       "      <td>TRAPPIST-1e</td>\n",
       "      <td>20.0</td>\n",
       "      <td>False</td>\n",
       "      <td>10.0</td>\n",
       "      <td>0.0</td>\n",
       "      <td>635.0</td>\n",
       "      <td>0.0</td>\n",
       "      <td>0.0</td>\n",
       "      <td>Brence Harperez</td>\n",
       "    </tr>\n",
       "  </tbody>\n",
       "</table>\n",
       "</div>"
      ],
      "text/plain": [
       "  PassengerId HomePlanet CryoSleep  Cabin  Destination   Age    VIP  \\\n",
       "0     0013_01      Earth      True  G/3/S  TRAPPIST-1e  27.0  False   \n",
       "1     0018_01      Earth     False  F/4/S  TRAPPIST-1e  19.0  False   \n",
       "2     0019_01     Europa      True  C/0/S  55 Cancri e  31.0  False   \n",
       "3     0021_01     Europa     False  C/1/S  TRAPPIST-1e  38.0  False   \n",
       "4     0023_01      Earth     False  F/5/S  TRAPPIST-1e  20.0  False   \n",
       "\n",
       "   RoomService  FoodCourt  ShoppingMall     Spa  VRDeck              Name  \n",
       "0          0.0        0.0           0.0     0.0     0.0   Nelly Carsoning  \n",
       "1          0.0        9.0           0.0  2823.0     0.0    Lerome Peckers  \n",
       "2          0.0        0.0           0.0     0.0     0.0   Sabih Unhearfus  \n",
       "3          0.0     6652.0           0.0   181.0   585.0  Meratz Caltilter  \n",
       "4         10.0        0.0         635.0     0.0     0.0   Brence Harperez  "
      ]
     },
     "execution_count": 6,
     "metadata": {},
     "output_type": "execute_result"
    }
   ],
   "source": [
    "# Print first 5 rows\n",
    "test_df.head()"
   ]
  },
  {
   "cell_type": "code",
   "execution_count": 7,
   "id": "ff32ff13",
   "metadata": {
    "scrolled": true
   },
   "outputs": [
    {
     "data": {
      "text/html": [
       "<div>\n",
       "<style scoped>\n",
       "    .dataframe tbody tr th:only-of-type {\n",
       "        vertical-align: middle;\n",
       "    }\n",
       "\n",
       "    .dataframe tbody tr th {\n",
       "        vertical-align: top;\n",
       "    }\n",
       "\n",
       "    .dataframe thead th {\n",
       "        text-align: right;\n",
       "    }\n",
       "</style>\n",
       "<table border=\"1\" class=\"dataframe\">\n",
       "  <thead>\n",
       "    <tr style=\"text-align: right;\">\n",
       "      <th></th>\n",
       "      <th>PassengerId</th>\n",
       "      <th>HomePlanet</th>\n",
       "      <th>CryoSleep</th>\n",
       "      <th>Cabin</th>\n",
       "      <th>Destination</th>\n",
       "      <th>Age</th>\n",
       "      <th>VIP</th>\n",
       "      <th>RoomService</th>\n",
       "      <th>FoodCourt</th>\n",
       "      <th>ShoppingMall</th>\n",
       "      <th>Spa</th>\n",
       "      <th>VRDeck</th>\n",
       "      <th>Name</th>\n",
       "      <th>Transported</th>\n",
       "    </tr>\n",
       "  </thead>\n",
       "  <tbody>\n",
       "    <tr>\n",
       "      <th>0</th>\n",
       "      <td>0001_01</td>\n",
       "      <td>Europa</td>\n",
       "      <td>False</td>\n",
       "      <td>B/0/P</td>\n",
       "      <td>TRAPPIST-1e</td>\n",
       "      <td>39.0</td>\n",
       "      <td>False</td>\n",
       "      <td>0.0</td>\n",
       "      <td>0.0</td>\n",
       "      <td>0.0</td>\n",
       "      <td>0.0</td>\n",
       "      <td>0.0</td>\n",
       "      <td>Maham Ofracculy</td>\n",
       "      <td>False</td>\n",
       "    </tr>\n",
       "    <tr>\n",
       "      <th>1</th>\n",
       "      <td>0002_01</td>\n",
       "      <td>Earth</td>\n",
       "      <td>False</td>\n",
       "      <td>F/0/S</td>\n",
       "      <td>TRAPPIST-1e</td>\n",
       "      <td>24.0</td>\n",
       "      <td>False</td>\n",
       "      <td>109.0</td>\n",
       "      <td>9.0</td>\n",
       "      <td>25.0</td>\n",
       "      <td>549.0</td>\n",
       "      <td>44.0</td>\n",
       "      <td>Juanna Vines</td>\n",
       "      <td>True</td>\n",
       "    </tr>\n",
       "    <tr>\n",
       "      <th>2</th>\n",
       "      <td>0003_01</td>\n",
       "      <td>Europa</td>\n",
       "      <td>False</td>\n",
       "      <td>A/0/S</td>\n",
       "      <td>TRAPPIST-1e</td>\n",
       "      <td>58.0</td>\n",
       "      <td>True</td>\n",
       "      <td>43.0</td>\n",
       "      <td>3576.0</td>\n",
       "      <td>0.0</td>\n",
       "      <td>6715.0</td>\n",
       "      <td>49.0</td>\n",
       "      <td>Altark Susent</td>\n",
       "      <td>False</td>\n",
       "    </tr>\n",
       "    <tr>\n",
       "      <th>3</th>\n",
       "      <td>0003_02</td>\n",
       "      <td>Europa</td>\n",
       "      <td>False</td>\n",
       "      <td>A/0/S</td>\n",
       "      <td>TRAPPIST-1e</td>\n",
       "      <td>33.0</td>\n",
       "      <td>False</td>\n",
       "      <td>0.0</td>\n",
       "      <td>1283.0</td>\n",
       "      <td>371.0</td>\n",
       "      <td>3329.0</td>\n",
       "      <td>193.0</td>\n",
       "      <td>Solam Susent</td>\n",
       "      <td>False</td>\n",
       "    </tr>\n",
       "    <tr>\n",
       "      <th>4</th>\n",
       "      <td>0004_01</td>\n",
       "      <td>Earth</td>\n",
       "      <td>False</td>\n",
       "      <td>F/1/S</td>\n",
       "      <td>TRAPPIST-1e</td>\n",
       "      <td>16.0</td>\n",
       "      <td>False</td>\n",
       "      <td>303.0</td>\n",
       "      <td>70.0</td>\n",
       "      <td>151.0</td>\n",
       "      <td>565.0</td>\n",
       "      <td>2.0</td>\n",
       "      <td>Willy Santantines</td>\n",
       "      <td>True</td>\n",
       "    </tr>\n",
       "  </tbody>\n",
       "</table>\n",
       "</div>"
      ],
      "text/plain": [
       "  PassengerId HomePlanet CryoSleep  Cabin  Destination   Age    VIP  \\\n",
       "0     0001_01     Europa     False  B/0/P  TRAPPIST-1e  39.0  False   \n",
       "1     0002_01      Earth     False  F/0/S  TRAPPIST-1e  24.0  False   \n",
       "2     0003_01     Europa     False  A/0/S  TRAPPIST-1e  58.0   True   \n",
       "3     0003_02     Europa     False  A/0/S  TRAPPIST-1e  33.0  False   \n",
       "4     0004_01      Earth     False  F/1/S  TRAPPIST-1e  16.0  False   \n",
       "\n",
       "   RoomService  FoodCourt  ShoppingMall     Spa  VRDeck               Name  \\\n",
       "0          0.0        0.0           0.0     0.0     0.0    Maham Ofracculy   \n",
       "1        109.0        9.0          25.0   549.0    44.0       Juanna Vines   \n",
       "2         43.0     3576.0           0.0  6715.0    49.0      Altark Susent   \n",
       "3          0.0     1283.0         371.0  3329.0   193.0       Solam Susent   \n",
       "4        303.0       70.0         151.0   565.0     2.0  Willy Santantines   \n",
       "\n",
       "   Transported  \n",
       "0        False  \n",
       "1         True  \n",
       "2        False  \n",
       "3        False  \n",
       "4         True  "
      ]
     },
     "execution_count": 7,
     "metadata": {},
     "output_type": "execute_result"
    }
   ],
   "source": [
    "# Print first 5 rows\n",
    "train_df.head()"
   ]
  },
  {
   "cell_type": "code",
   "execution_count": 8,
   "id": "cdd849e9",
   "metadata": {
    "scrolled": true
   },
   "outputs": [
    {
     "name": "stdout",
     "output_type": "stream",
     "text": [
      "<class 'pandas.core.frame.DataFrame'>\n",
      "RangeIndex: 4277 entries, 0 to 4276\n",
      "Data columns (total 13 columns):\n",
      " #   Column        Non-Null Count  Dtype  \n",
      "---  ------        --------------  -----  \n",
      " 0   PassengerId   4277 non-null   object \n",
      " 1   HomePlanet    4190 non-null   object \n",
      " 2   CryoSleep     4184 non-null   object \n",
      " 3   Cabin         4177 non-null   object \n",
      " 4   Destination   4185 non-null   object \n",
      " 5   Age           4186 non-null   float64\n",
      " 6   VIP           4184 non-null   object \n",
      " 7   RoomService   4195 non-null   float64\n",
      " 8   FoodCourt     4171 non-null   float64\n",
      " 9   ShoppingMall  4179 non-null   float64\n",
      " 10  Spa           4176 non-null   float64\n",
      " 11  VRDeck        4197 non-null   float64\n",
      " 12  Name          4183 non-null   object \n",
      "dtypes: float64(6), object(7)\n",
      "memory usage: 434.5+ KB\n"
     ]
    }
   ],
   "source": [
    "# Check test df information\n",
    "test_df.info()"
   ]
  },
  {
   "cell_type": "code",
   "execution_count": 9,
   "id": "c4abc492",
   "metadata": {},
   "outputs": [
    {
     "data": {
      "text/plain": [
       "PassengerId       0\n",
       "HomePlanet       87\n",
       "CryoSleep        93\n",
       "Cabin           100\n",
       "Destination      92\n",
       "Age              91\n",
       "VIP              93\n",
       "RoomService      82\n",
       "FoodCourt       106\n",
       "ShoppingMall     98\n",
       "Spa             101\n",
       "VRDeck           80\n",
       "Name             94\n",
       "dtype: int64"
      ]
     },
     "execution_count": 9,
     "metadata": {},
     "output_type": "execute_result"
    }
   ],
   "source": [
    "# Check NaNs in each column\n",
    "test_df.isna().sum()"
   ]
  },
  {
   "cell_type": "code",
   "execution_count": 10,
   "id": "af1e392d",
   "metadata": {},
   "outputs": [
    {
     "data": {
      "text/plain": [
       "PassengerId     4277\n",
       "HomePlanet         3\n",
       "CryoSleep          2\n",
       "Cabin           3265\n",
       "Destination        3\n",
       "Age               79\n",
       "VIP                2\n",
       "RoomService      842\n",
       "FoodCourt        902\n",
       "ShoppingMall     715\n",
       "Spa              833\n",
       "VRDeck           796\n",
       "Name            4176\n",
       "dtype: int64"
      ]
     },
     "execution_count": 10,
     "metadata": {},
     "output_type": "execute_result"
    }
   ],
   "source": [
    "# Check the number of unique values in each column\n",
    "test_df.nunique()"
   ]
  },
  {
   "cell_type": "code",
   "execution_count": 11,
   "id": "7289c5d6",
   "metadata": {
    "scrolled": false
   },
   "outputs": [
    {
     "data": {
      "text/plain": [
       "PassengerId     8693\n",
       "HomePlanet         3\n",
       "CryoSleep          2\n",
       "Cabin           6560\n",
       "Destination        3\n",
       "Age               80\n",
       "VIP                2\n",
       "RoomService     1273\n",
       "FoodCourt       1507\n",
       "ShoppingMall    1115\n",
       "Spa             1327\n",
       "VRDeck          1306\n",
       "Name            8473\n",
       "Transported        2\n",
       "dtype: int64"
      ]
     },
     "execution_count": 11,
     "metadata": {},
     "output_type": "execute_result"
    }
   ],
   "source": [
    "# Check number of unique values in each column\n",
    "train_df.nunique()"
   ]
  },
  {
   "cell_type": "code",
   "execution_count": 12,
   "id": "20752586",
   "metadata": {
    "scrolled": true
   },
   "outputs": [
    {
     "data": {
      "text/plain": [
       "PassengerId       0\n",
       "HomePlanet      201\n",
       "CryoSleep       217\n",
       "Cabin           199\n",
       "Destination     182\n",
       "Age             179\n",
       "VIP             203\n",
       "RoomService     181\n",
       "FoodCourt       183\n",
       "ShoppingMall    208\n",
       "Spa             183\n",
       "VRDeck          188\n",
       "Name            200\n",
       "Transported       0\n",
       "dtype: int64"
      ]
     },
     "execution_count": 12,
     "metadata": {},
     "output_type": "execute_result"
    }
   ],
   "source": [
    "# Check NaNs across columns\n",
    "train_df.isna().sum()"
   ]
  },
  {
   "cell_type": "code",
   "execution_count": 13,
   "id": "8aab9ab0",
   "metadata": {
    "scrolled": false
   },
   "outputs": [
    {
     "data": {
      "text/html": [
       "<div>\n",
       "<style scoped>\n",
       "    .dataframe tbody tr th:only-of-type {\n",
       "        vertical-align: middle;\n",
       "    }\n",
       "\n",
       "    .dataframe tbody tr th {\n",
       "        vertical-align: top;\n",
       "    }\n",
       "\n",
       "    .dataframe thead th {\n",
       "        text-align: right;\n",
       "    }\n",
       "</style>\n",
       "<table border=\"1\" class=\"dataframe\">\n",
       "  <thead>\n",
       "    <tr style=\"text-align: right;\">\n",
       "      <th></th>\n",
       "      <th>Age</th>\n",
       "      <th>RoomService</th>\n",
       "      <th>FoodCourt</th>\n",
       "      <th>ShoppingMall</th>\n",
       "      <th>Spa</th>\n",
       "      <th>VRDeck</th>\n",
       "    </tr>\n",
       "  </thead>\n",
       "  <tbody>\n",
       "    <tr>\n",
       "      <th>count</th>\n",
       "      <td>4186.000000</td>\n",
       "      <td>4195.000000</td>\n",
       "      <td>4171.000000</td>\n",
       "      <td>4179.000000</td>\n",
       "      <td>4176.000000</td>\n",
       "      <td>4197.000000</td>\n",
       "    </tr>\n",
       "    <tr>\n",
       "      <th>mean</th>\n",
       "      <td>28.658146</td>\n",
       "      <td>219.266269</td>\n",
       "      <td>439.484296</td>\n",
       "      <td>177.295525</td>\n",
       "      <td>303.052443</td>\n",
       "      <td>310.710031</td>\n",
       "    </tr>\n",
       "    <tr>\n",
       "      <th>std</th>\n",
       "      <td>14.179072</td>\n",
       "      <td>607.011289</td>\n",
       "      <td>1527.663045</td>\n",
       "      <td>560.821123</td>\n",
       "      <td>1117.186015</td>\n",
       "      <td>1246.994742</td>\n",
       "    </tr>\n",
       "    <tr>\n",
       "      <th>min</th>\n",
       "      <td>0.000000</td>\n",
       "      <td>0.000000</td>\n",
       "      <td>0.000000</td>\n",
       "      <td>0.000000</td>\n",
       "      <td>0.000000</td>\n",
       "      <td>0.000000</td>\n",
       "    </tr>\n",
       "    <tr>\n",
       "      <th>25%</th>\n",
       "      <td>19.000000</td>\n",
       "      <td>0.000000</td>\n",
       "      <td>0.000000</td>\n",
       "      <td>0.000000</td>\n",
       "      <td>0.000000</td>\n",
       "      <td>0.000000</td>\n",
       "    </tr>\n",
       "    <tr>\n",
       "      <th>50%</th>\n",
       "      <td>26.000000</td>\n",
       "      <td>0.000000</td>\n",
       "      <td>0.000000</td>\n",
       "      <td>0.000000</td>\n",
       "      <td>0.000000</td>\n",
       "      <td>0.000000</td>\n",
       "    </tr>\n",
       "    <tr>\n",
       "      <th>75%</th>\n",
       "      <td>37.000000</td>\n",
       "      <td>53.000000</td>\n",
       "      <td>78.000000</td>\n",
       "      <td>33.000000</td>\n",
       "      <td>50.000000</td>\n",
       "      <td>36.000000</td>\n",
       "    </tr>\n",
       "    <tr>\n",
       "      <th>max</th>\n",
       "      <td>79.000000</td>\n",
       "      <td>11567.000000</td>\n",
       "      <td>25273.000000</td>\n",
       "      <td>8292.000000</td>\n",
       "      <td>19844.000000</td>\n",
       "      <td>22272.000000</td>\n",
       "    </tr>\n",
       "  </tbody>\n",
       "</table>\n",
       "</div>"
      ],
      "text/plain": [
       "               Age   RoomService     FoodCourt  ShoppingMall           Spa  \\\n",
       "count  4186.000000   4195.000000   4171.000000   4179.000000   4176.000000   \n",
       "mean     28.658146    219.266269    439.484296    177.295525    303.052443   \n",
       "std      14.179072    607.011289   1527.663045    560.821123   1117.186015   \n",
       "min       0.000000      0.000000      0.000000      0.000000      0.000000   \n",
       "25%      19.000000      0.000000      0.000000      0.000000      0.000000   \n",
       "50%      26.000000      0.000000      0.000000      0.000000      0.000000   \n",
       "75%      37.000000     53.000000     78.000000     33.000000     50.000000   \n",
       "max      79.000000  11567.000000  25273.000000   8292.000000  19844.000000   \n",
       "\n",
       "             VRDeck  \n",
       "count   4197.000000  \n",
       "mean     310.710031  \n",
       "std     1246.994742  \n",
       "min        0.000000  \n",
       "25%        0.000000  \n",
       "50%        0.000000  \n",
       "75%       36.000000  \n",
       "max    22272.000000  "
      ]
     },
     "execution_count": 13,
     "metadata": {},
     "output_type": "execute_result"
    }
   ],
   "source": [
    "# Basic descriptive stat\n",
    "test_df.describe()"
   ]
  },
  {
   "cell_type": "code",
   "execution_count": 14,
   "id": "0799b1c6",
   "metadata": {
    "scrolled": true
   },
   "outputs": [
    {
     "data": {
      "text/html": [
       "<div>\n",
       "<style scoped>\n",
       "    .dataframe tbody tr th:only-of-type {\n",
       "        vertical-align: middle;\n",
       "    }\n",
       "\n",
       "    .dataframe tbody tr th {\n",
       "        vertical-align: top;\n",
       "    }\n",
       "\n",
       "    .dataframe thead th {\n",
       "        text-align: right;\n",
       "    }\n",
       "</style>\n",
       "<table border=\"1\" class=\"dataframe\">\n",
       "  <thead>\n",
       "    <tr style=\"text-align: right;\">\n",
       "      <th></th>\n",
       "      <th>Age</th>\n",
       "      <th>RoomService</th>\n",
       "      <th>FoodCourt</th>\n",
       "      <th>ShoppingMall</th>\n",
       "      <th>Spa</th>\n",
       "      <th>VRDeck</th>\n",
       "    </tr>\n",
       "  </thead>\n",
       "  <tbody>\n",
       "    <tr>\n",
       "      <th>count</th>\n",
       "      <td>8514.000000</td>\n",
       "      <td>8512.000000</td>\n",
       "      <td>8510.000000</td>\n",
       "      <td>8485.000000</td>\n",
       "      <td>8510.000000</td>\n",
       "      <td>8505.000000</td>\n",
       "    </tr>\n",
       "    <tr>\n",
       "      <th>mean</th>\n",
       "      <td>28.827930</td>\n",
       "      <td>224.687617</td>\n",
       "      <td>458.077203</td>\n",
       "      <td>173.729169</td>\n",
       "      <td>311.138778</td>\n",
       "      <td>304.854791</td>\n",
       "    </tr>\n",
       "    <tr>\n",
       "      <th>std</th>\n",
       "      <td>14.489021</td>\n",
       "      <td>666.717663</td>\n",
       "      <td>1611.489240</td>\n",
       "      <td>604.696458</td>\n",
       "      <td>1136.705535</td>\n",
       "      <td>1145.717189</td>\n",
       "    </tr>\n",
       "    <tr>\n",
       "      <th>min</th>\n",
       "      <td>0.000000</td>\n",
       "      <td>0.000000</td>\n",
       "      <td>0.000000</td>\n",
       "      <td>0.000000</td>\n",
       "      <td>0.000000</td>\n",
       "      <td>0.000000</td>\n",
       "    </tr>\n",
       "    <tr>\n",
       "      <th>25%</th>\n",
       "      <td>19.000000</td>\n",
       "      <td>0.000000</td>\n",
       "      <td>0.000000</td>\n",
       "      <td>0.000000</td>\n",
       "      <td>0.000000</td>\n",
       "      <td>0.000000</td>\n",
       "    </tr>\n",
       "    <tr>\n",
       "      <th>50%</th>\n",
       "      <td>27.000000</td>\n",
       "      <td>0.000000</td>\n",
       "      <td>0.000000</td>\n",
       "      <td>0.000000</td>\n",
       "      <td>0.000000</td>\n",
       "      <td>0.000000</td>\n",
       "    </tr>\n",
       "    <tr>\n",
       "      <th>75%</th>\n",
       "      <td>38.000000</td>\n",
       "      <td>47.000000</td>\n",
       "      <td>76.000000</td>\n",
       "      <td>27.000000</td>\n",
       "      <td>59.000000</td>\n",
       "      <td>46.000000</td>\n",
       "    </tr>\n",
       "    <tr>\n",
       "      <th>max</th>\n",
       "      <td>79.000000</td>\n",
       "      <td>14327.000000</td>\n",
       "      <td>29813.000000</td>\n",
       "      <td>23492.000000</td>\n",
       "      <td>22408.000000</td>\n",
       "      <td>24133.000000</td>\n",
       "    </tr>\n",
       "  </tbody>\n",
       "</table>\n",
       "</div>"
      ],
      "text/plain": [
       "               Age   RoomService     FoodCourt  ShoppingMall           Spa  \\\n",
       "count  8514.000000   8512.000000   8510.000000   8485.000000   8510.000000   \n",
       "mean     28.827930    224.687617    458.077203    173.729169    311.138778   \n",
       "std      14.489021    666.717663   1611.489240    604.696458   1136.705535   \n",
       "min       0.000000      0.000000      0.000000      0.000000      0.000000   \n",
       "25%      19.000000      0.000000      0.000000      0.000000      0.000000   \n",
       "50%      27.000000      0.000000      0.000000      0.000000      0.000000   \n",
       "75%      38.000000     47.000000     76.000000     27.000000     59.000000   \n",
       "max      79.000000  14327.000000  29813.000000  23492.000000  22408.000000   \n",
       "\n",
       "             VRDeck  \n",
       "count   8505.000000  \n",
       "mean     304.854791  \n",
       "std     1145.717189  \n",
       "min        0.000000  \n",
       "25%        0.000000  \n",
       "50%        0.000000  \n",
       "75%       46.000000  \n",
       "max    24133.000000  "
      ]
     },
     "execution_count": 14,
     "metadata": {},
     "output_type": "execute_result"
    }
   ],
   "source": [
    "# Descriptive stat\n",
    "train_df.describe()"
   ]
  },
  {
   "cell_type": "code",
   "execution_count": 15,
   "id": "d43bf80a",
   "metadata": {
    "scrolled": true
   },
   "outputs": [
    {
     "name": "stdout",
     "output_type": "stream",
     "text": [
      "<class 'pandas.core.frame.DataFrame'>\n",
      "RangeIndex: 8693 entries, 0 to 8692\n",
      "Data columns (total 14 columns):\n",
      " #   Column        Non-Null Count  Dtype  \n",
      "---  ------        --------------  -----  \n",
      " 0   PassengerId   8693 non-null   object \n",
      " 1   HomePlanet    8492 non-null   object \n",
      " 2   CryoSleep     8476 non-null   object \n",
      " 3   Cabin         8494 non-null   object \n",
      " 4   Destination   8511 non-null   object \n",
      " 5   Age           8514 non-null   float64\n",
      " 6   VIP           8490 non-null   object \n",
      " 7   RoomService   8512 non-null   float64\n",
      " 8   FoodCourt     8510 non-null   float64\n",
      " 9   ShoppingMall  8485 non-null   float64\n",
      " 10  Spa           8510 non-null   float64\n",
      " 11  VRDeck        8505 non-null   float64\n",
      " 12  Name          8493 non-null   object \n",
      " 13  Transported   8693 non-null   bool   \n",
      "dtypes: bool(1), float64(6), object(7)\n",
      "memory usage: 891.5+ KB\n"
     ]
    }
   ],
   "source": [
    "# Check train df information\n",
    "train_df.info()"
   ]
  },
  {
   "cell_type": "code",
   "execution_count": 16,
   "id": "fd027fee",
   "metadata": {},
   "outputs": [
    {
     "data": {
      "text/html": [
       "<div>\n",
       "<style scoped>\n",
       "    .dataframe tbody tr th:only-of-type {\n",
       "        vertical-align: middle;\n",
       "    }\n",
       "\n",
       "    .dataframe tbody tr th {\n",
       "        vertical-align: top;\n",
       "    }\n",
       "\n",
       "    .dataframe thead th {\n",
       "        text-align: right;\n",
       "    }\n",
       "</style>\n",
       "<table border=\"1\" class=\"dataframe\">\n",
       "  <thead>\n",
       "    <tr style=\"text-align: right;\">\n",
       "      <th></th>\n",
       "      <th>Age</th>\n",
       "      <th>RoomService</th>\n",
       "      <th>FoodCourt</th>\n",
       "      <th>ShoppingMall</th>\n",
       "      <th>Spa</th>\n",
       "      <th>VRDeck</th>\n",
       "    </tr>\n",
       "  </thead>\n",
       "  <tbody>\n",
       "    <tr>\n",
       "      <th>count</th>\n",
       "      <td>8514.000000</td>\n",
       "      <td>8512.000000</td>\n",
       "      <td>8510.000000</td>\n",
       "      <td>8485.000000</td>\n",
       "      <td>8510.000000</td>\n",
       "      <td>8505.000000</td>\n",
       "    </tr>\n",
       "    <tr>\n",
       "      <th>mean</th>\n",
       "      <td>28.827930</td>\n",
       "      <td>224.687617</td>\n",
       "      <td>458.077203</td>\n",
       "      <td>173.729169</td>\n",
       "      <td>311.138778</td>\n",
       "      <td>304.854791</td>\n",
       "    </tr>\n",
       "    <tr>\n",
       "      <th>std</th>\n",
       "      <td>14.489021</td>\n",
       "      <td>666.717663</td>\n",
       "      <td>1611.489240</td>\n",
       "      <td>604.696458</td>\n",
       "      <td>1136.705535</td>\n",
       "      <td>1145.717189</td>\n",
       "    </tr>\n",
       "    <tr>\n",
       "      <th>min</th>\n",
       "      <td>0.000000</td>\n",
       "      <td>0.000000</td>\n",
       "      <td>0.000000</td>\n",
       "      <td>0.000000</td>\n",
       "      <td>0.000000</td>\n",
       "      <td>0.000000</td>\n",
       "    </tr>\n",
       "    <tr>\n",
       "      <th>25%</th>\n",
       "      <td>19.000000</td>\n",
       "      <td>0.000000</td>\n",
       "      <td>0.000000</td>\n",
       "      <td>0.000000</td>\n",
       "      <td>0.000000</td>\n",
       "      <td>0.000000</td>\n",
       "    </tr>\n",
       "    <tr>\n",
       "      <th>50%</th>\n",
       "      <td>27.000000</td>\n",
       "      <td>0.000000</td>\n",
       "      <td>0.000000</td>\n",
       "      <td>0.000000</td>\n",
       "      <td>0.000000</td>\n",
       "      <td>0.000000</td>\n",
       "    </tr>\n",
       "    <tr>\n",
       "      <th>75%</th>\n",
       "      <td>38.000000</td>\n",
       "      <td>47.000000</td>\n",
       "      <td>76.000000</td>\n",
       "      <td>27.000000</td>\n",
       "      <td>59.000000</td>\n",
       "      <td>46.000000</td>\n",
       "    </tr>\n",
       "    <tr>\n",
       "      <th>max</th>\n",
       "      <td>79.000000</td>\n",
       "      <td>14327.000000</td>\n",
       "      <td>29813.000000</td>\n",
       "      <td>23492.000000</td>\n",
       "      <td>22408.000000</td>\n",
       "      <td>24133.000000</td>\n",
       "    </tr>\n",
       "  </tbody>\n",
       "</table>\n",
       "</div>"
      ],
      "text/plain": [
       "               Age   RoomService     FoodCourt  ShoppingMall           Spa  \\\n",
       "count  8514.000000   8512.000000   8510.000000   8485.000000   8510.000000   \n",
       "mean     28.827930    224.687617    458.077203    173.729169    311.138778   \n",
       "std      14.489021    666.717663   1611.489240    604.696458   1136.705535   \n",
       "min       0.000000      0.000000      0.000000      0.000000      0.000000   \n",
       "25%      19.000000      0.000000      0.000000      0.000000      0.000000   \n",
       "50%      27.000000      0.000000      0.000000      0.000000      0.000000   \n",
       "75%      38.000000     47.000000     76.000000     27.000000     59.000000   \n",
       "max      79.000000  14327.000000  29813.000000  23492.000000  22408.000000   \n",
       "\n",
       "             VRDeck  \n",
       "count   8505.000000  \n",
       "mean     304.854791  \n",
       "std     1145.717189  \n",
       "min        0.000000  \n",
       "25%        0.000000  \n",
       "50%        0.000000  \n",
       "75%       46.000000  \n",
       "max    24133.000000  "
      ]
     },
     "execution_count": 16,
     "metadata": {},
     "output_type": "execute_result"
    }
   ],
   "source": [
    "# Descriptive stat\n",
    "train_df.describe()"
   ]
  },
  {
   "cell_type": "code",
   "execution_count": 17,
   "id": "d754f024",
   "metadata": {},
   "outputs": [
    {
     "data": {
      "image/png": "[encoded data removed]",
      "text/plain": [
       "<Figure size 700x700 with 6 Axes>"
      ]
     },
     "metadata": {},
     "output_type": "display_data"
    }
   ],
   "source": [
    "# EDA on test df\n",
    "test_df.hist(figsize=[7,7]);\n",
    "plt.savefig('hist_test.png');"
   ]
  },
  {
   "cell_type": "code",
   "execution_count": 18,
   "id": "2a47bf31",
   "metadata": {
    "scrolled": true
   },
   "outputs": [
    {
     "data": {
      "image/png": "[encoded data removed]",
      "text/plain": [
       "<Figure size 700x700 with 6 Axes>"
      ]
     },
     "metadata": {},
     "output_type": "display_data"
    }
   ],
   "source": [
    "# EDA on train df\n",
    "train_df.hist(figsize=[7,7]);\n",
    "plt.savefig('hist_train.png');"
   ]
  },
  {
   "cell_type": "code",
   "execution_count": 19,
   "id": "364208d3",
   "metadata": {
    "scrolled": false
   },
   "outputs": [
    {
     "data": {
      "image/png": "[encoded data removed]",
      "text/plain": [
       "<Figure size 640x480 with 2 Axes>"
      ]
     },
     "metadata": {},
     "output_type": "display_data"
    }
   ],
   "source": [
    "# Heatmap to check correlation of numeric columns in train df\n",
    "sns.heatmap(train_df.corr(), annot=True, fmt='.2f');\n",
    "plt.title('Linear Relationship Between Numerical Columns in Train Data');\n",
    "plt.savefig('corr_train.png');"
   ]
  },
  {
   "cell_type": "code",
   "execution_count": 20,
   "id": "2c67d1d0",
   "metadata": {},
   "outputs": [
    {
     "data": {
      "image/png": "[encoded data removed]",
      "text/plain": [
       "<Figure size 640x480 with 2 Axes>"
      ]
     },
     "metadata": {},
     "output_type": "display_data"
    }
   ],
   "source": [
    "# Heatmap to check correlation of numeric columns in test df\n",
    "sns.heatmap(test_df.corr(), annot=True, fmt='.2f');\n",
    "plt.title('Linear Relationship Between Numerical Columns in Test Data');\n",
    "plt.savefig('corr_test.png');"
   ]
  },
  {
   "cell_type": "markdown",
   "id": "ea5d5bf7",
   "metadata": {},
   "source": [
    "Above are heatmaps that display the linear relationships between the numerical columns in the train and test dataframes. The results from each cell show that there is no significant linear relationship between numerical columns. "
   ]
  },
  {
   "cell_type": "code",
   "execution_count": 21,
   "id": "884dcfeb",
   "metadata": {
    "scrolled": true
   },
   "outputs": [
    {
     "data": {
      "text/plain": [
       "390"
      ]
     },
     "execution_count": 21,
     "metadata": {},
     "output_type": "execute_result"
    }
   ],
   "source": [
    "# Length of CabinNumber in train_df not in test_df\n",
    "len(np.setdiff1d(train_df.Cabin.str.split('/', expand=True).get(1).astype(float)\n",
    "             , test_df.Cabin.str.split('/', expand=True).get(1).astype(float)))"
   ]
  },
  {
   "cell_type": "code",
   "execution_count": 22,
   "id": "4a841100",
   "metadata": {},
   "outputs": [
    {
     "data": {
      "text/plain": [
       "78"
      ]
     },
     "execution_count": 22,
     "metadata": {},
     "output_type": "execute_result"
    }
   ],
   "source": [
    "# Length of CabinNumber in test_df not in train_df\n",
    "len(np.setdiff1d(test_df.Cabin.str.split('/', expand=True).get(1).astype(float)\n",
    "             , train_df.Cabin.str.split('/', expand=True).get(1).astype(float)))"
   ]
  },
  {
   "cell_type": "markdown",
   "id": "7e55ee84",
   "metadata": {},
   "source": [
    "We have 390 Cabin Numbers in train_df that are not in test_df. Also 78 Cabin Numbers in test_df that are not in train_df. This indicates that the two dataframes need to be concatenated first before dummy operation to ensure that we have equal number of columns for the train and test dfs. "
   ]
  },
  {
   "cell_type": "code",
   "execution_count": 23,
   "id": "5a64d3c0",
   "metadata": {
    "scrolled": true
   },
   "outputs": [
    {
     "data": {
      "image/png": "[encoded data removed]",
      "text/plain": [
       "<Figure size 640x480 with 1 Axes>"
      ]
     },
     "metadata": {},
     "output_type": "display_data"
    }
   ],
   "source": [
    "color = sns.color_palette()\n",
    "\n",
    "\n",
    "def home_planet_plot():\n",
    "    \"\"\"\n",
    "    Plot a bar graph of aggregated values in homeplanet\n",
    "    column of train and test dataframes and compare their destribution.\n",
    "    \n",
    "    Parameters: \n",
    "           None\n",
    "    Returns: \n",
    "         None\n",
    "    \"\"\"\n",
    "        \n",
    "    # Aggregate the total count of values in homeplanet and plot\n",
    "    train_df.HomePlanet.value_counts().plot(\n",
    "        kind = 'bar', \n",
    "        color = color[0], \n",
    "        alpha = .5, \n",
    "        label = 'Train'\n",
    "    );\n",
    "    \n",
    "    test_df.HomePlanet.value_counts().plot(\n",
    "        kind = 'bar', \n",
    "        color = color[1], \n",
    "        alpha = .5, \n",
    "        label = 'Test'\n",
    "    );\n",
    "\n",
    "    plt.xlabel('Values');\n",
    "    plt.xticks(rotation = 0)\n",
    "    plt.ylabel('Count');\n",
    "    plt.title('HomePlanet in Train Dataframe vs Test Dataframe');\n",
    "    plt.legend();\n",
    "    plt.savefig('homeplanet.png');\n",
    "home_planet_plot()"
   ]
  },
  {
   "cell_type": "markdown",
   "id": "a3266a76",
   "metadata": {},
   "source": [
    "This bar graph shows the distribution of different home planets in both train and test dataframes. It shows that both columns from the different dataframes have the same trend."
   ]
  },
  {
   "cell_type": "code",
   "execution_count": 24,
   "id": "c36e99f2",
   "metadata": {},
   "outputs": [
    {
     "data": {
      "image/png": "[encoded data removed]",
      "text/plain": [
       "<Figure size 640x480 with 1 Axes>"
      ]
     },
     "metadata": {},
     "output_type": "display_data"
    }
   ],
   "source": [
    "def cryosleep_plot():\n",
    "    \n",
    "    \"\"\"\n",
    "    Plot a bar graph of aggregated values of cryosleep in cabin\n",
    "    column of train and test dataframes and compare their destribution.\n",
    "    \n",
    "    Parameters: \n",
    "           None\n",
    "    Returns: \n",
    "         None\n",
    "    \"\"\"\n",
    "    \n",
    "    # Aggregate the total count of values in cryosleep column and plot\n",
    "    train_df.CryoSleep.value_counts().plot(\n",
    "        kind = 'bar', \n",
    "        color = color[0], \n",
    "        alpha = .5, \n",
    "        label = 'Train'\n",
    "    );\n",
    "\n",
    "    test_df.CryoSleep.value_counts().plot(\n",
    "        kind = 'bar', \n",
    "        color = color[1], \n",
    "        alpha = .5, \n",
    "        label = 'Test'\n",
    "    );\n",
    "\n",
    "    plt.xlabel('Values');\n",
    "    plt.xticks(rotation = 0);\n",
    "    plt.ylabel('Count');\n",
    "    plt.title('CryoSleep in Train Dataframe vs Test Dataframe');\n",
    "    plt.legend();\n",
    "    plt.savefig('cryosleep.png');\n",
    "cryosleep_plot()"
   ]
  },
  {
   "cell_type": "markdown",
   "id": "9198ce76",
   "metadata": {},
   "source": [
    "This bar graph also shows that CryoSleep column from different dataframes have the same trend."
   ]
  },
  {
   "cell_type": "code",
   "execution_count": 25,
   "id": "acf7da17",
   "metadata": {},
   "outputs": [
    {
     "data": {
      "image/png": "[encoded data removed]",
      "text/plain": [
       "<Figure size 640x480 with 1 Axes>"
      ]
     },
     "metadata": {},
     "output_type": "display_data"
    }
   ],
   "source": [
    "def destination_plot():\n",
    "\n",
    "    \"\"\"\n",
    "    Plot a bar graph of aggregated values of destination column of train and test dataframes.\n",
    "    \n",
    "    Parameters: \n",
    "           None\n",
    "    Returns: \n",
    "         None\n",
    "    \"\"\"\n",
    "    \n",
    "    train_df.Destination.value_counts().plot(\n",
    "        kind = 'bar', \n",
    "        color = color[0], \n",
    "        alpha = .5, \n",
    "        label = 'Train'\n",
    "    );\n",
    "    \n",
    "    test_df.Destination.value_counts().plot(\n",
    "        kind = 'bar', \n",
    "        color = color[1], \n",
    "        alpha = .5, \n",
    "        label = 'Test'\n",
    "    );\n",
    "\n",
    "\n",
    "    plt.xlabel('Values');\n",
    "    plt.xticks(rotation = 0)\n",
    "    plt.ylabel('Count');\n",
    "    plt.title('Destination in Train Dataframe vs Test Dataframe');\n",
    "    plt.legend();\n",
    "    plt.savefig('destination.png');\n",
    "destination_plot()"
   ]
  },
  {
   "cell_type": "markdown",
   "id": "7c1ee242",
   "metadata": {},
   "source": [
    "This bar graph also shows that both columns from different dataframes have the same trend in destination column."
   ]
  },
  {
   "cell_type": "code",
   "execution_count": 26,
   "id": "0b95c73e",
   "metadata": {
    "scrolled": false
   },
   "outputs": [
    {
     "data": {
      "image/png": "[encoded data removed]",
      "text/plain": [
       "<Figure size 640x480 with 1 Axes>"
      ]
     },
     "metadata": {},
     "output_type": "display_data"
    }
   ],
   "source": [
    "def cabin_deck_plot():\n",
    "    \n",
    "    \"\"\"\n",
    "    Plot a bar graph of aggregated values of cabin deck \n",
    "    in cabin column of train and test dataframes.\n",
    "    \n",
    "    Parameters: \n",
    "           None\n",
    "    Returns: \n",
    "         None\n",
    "    \"\"\"\n",
    "    \n",
    "    # Extract cabin side values, aggregate them, and produce a bar plot\n",
    "    train_df.Cabin.str.split('/', expand=True).get(0).value_counts().plot(\n",
    "        kind = 'bar', \n",
    "        alpha = .5, \n",
    "        label = 'Train', \n",
    "        color = color[0]\n",
    "    );\n",
    "    test_df.Cabin.str.split('/', expand=True).get(0).value_counts().plot(\n",
    "        kind = 'bar', \n",
    "        alpha = .5, \n",
    "        label = 'Test', \n",
    "        color = color[1]\n",
    "    );\n",
    "\n",
    "    plt.xlabel('Values');\n",
    "    plt.xticks(rotation = 0)\n",
    "    plt.ylabel('Count');\n",
    "    plt.title('Cabin Deck Between Train and Test Dataframes');\n",
    "    plt.legend();\n",
    "    plt.savefig('cabin_deck.png');\n",
    "cabin_deck_plot()"
   ]
  },
  {
   "cell_type": "markdown",
   "id": "8eba7744",
   "metadata": {},
   "source": [
    "Both columns from different dataframes have the same trend of Cabin Deck."
   ]
  },
  {
   "cell_type": "code",
   "execution_count": 27,
   "id": "be3144af",
   "metadata": {},
   "outputs": [
    {
     "data": {
      "image/png": "[encoded data removed]",
      "text/plain": [
       "<Figure size 640x480 with 1 Axes>"
      ]
     },
     "metadata": {},
     "output_type": "display_data"
    }
   ],
   "source": [
    "def cabin_side_plot():\n",
    "    \"\"\"\n",
    "    Plot a bar graph of aggregated values of cabin side in cabin column of train and test dataframes.\n",
    "    \n",
    "    Parameters: \n",
    "           None\n",
    "    Returns: \n",
    "         None\n",
    "    \"\"\"\n",
    "    \n",
    "    # Extract cabin side values, aggregate them, and produce a bar plot\n",
    "    train_df.Cabin.str.split('/', expand=True).get(2).value_counts().plot(\n",
    "        kind = 'bar', \n",
    "        color = color[0], \n",
    "        alpha = .5, \n",
    "        label = 'Train'\n",
    "    );\n",
    "\n",
    "    test_df.Cabin.str.split('/', expand=True).get(2).value_counts().plot(\n",
    "        kind = 'bar', \n",
    "        color = color[1], \n",
    "        alpha = .5, \n",
    "        label = 'Test'\n",
    "    );\n",
    "\n",
    "    plt.xlabel('Values');\n",
    "    plt.xticks(rotation = 0)\n",
    "    plt.ylabel('Count');\n",
    "    plt.title('Cabin Side Between Train and Test Dataframes');\n",
    "    plt.legend();\n",
    "    plt.savefig('cabin_side.png');\n",
    "cabin_side_plot()"
   ]
  },
  {
   "cell_type": "markdown",
   "id": "77a62e0f",
   "metadata": {},
   "source": [
    "This bar graph shows the distribution of cabin sides. There is a similar trend between train dataframe and test dataframe in this column "
   ]
  },
  {
   "cell_type": "code",
   "execution_count": 28,
   "id": "501adaf1",
   "metadata": {
    "scrolled": false
   },
   "outputs": [
    {
     "data": {
      "image/png": "[encoded data removed]",
      "text/plain": [
       "<Figure size 1400x500 with 2 Axes>"
      ]
     },
     "metadata": {},
     "output_type": "display_data"
    }
   ],
   "source": [
    "def transported_plot():\n",
    "    \n",
    "    \"\"\"\n",
    "    Plot a bar graph of aggregated values in Transported column in train and sample dataframes.\n",
    "    \n",
    "    Parameters: \n",
    "           None\n",
    "    Returns: \n",
    "         None\n",
    "    \"\"\"\n",
    "    \n",
    "    plt.figure(figsize=[14,5])\n",
    "    plt.subplot(121);\n",
    "\n",
    "    sample_df.Transported.value_counts().plot(kind = 'bar');\n",
    "\n",
    "    plt.xlabel('Value');\n",
    "    plt.xticks(rotation = 0)\n",
    "    plt.ylabel('Count');\n",
    "\n",
    "    plt.subplot(122);\n",
    "\n",
    "    train_df.Transported.value_counts().plot(kind = 'bar');\n",
    "\n",
    "\n",
    "    plt.xlabel('Value');\n",
    "    plt.xticks(rotation = 0)\n",
    "    plt.suptitle('Transported Value Distribution in Sample and Train Dataframes');plt.savefig('reduce_dinension.png');\n",
    "    plt.savefig('transported.png');\n",
    "transported_plot()"
   ]
  },
  {
   "cell_type": "markdown",
   "id": "34b5b74f",
   "metadata": {},
   "source": [
    "The bar graph above shows the distribution of target variables (Transported) from train and sample dataframes. These columns will be used to test how well my model can predict. In train dataframe, this column consists of two values (True and False), but one value (False) in the sample dataframe. If you look closely, you'd observe that the frequency of False is approximately the same (over 4000). Why is this so? The `sample_df` has the exact same number of observations as `test_df`. This indicates a possible anomaly. While other columns in `test_df` have lower value counts than `train_df`, this one is different. This is the only column that does not have a similar trend with that of train dataframe. This indicates that my model may not predict well on the test data."
   ]
  },
  {
   "cell_type": "markdown",
   "id": "cb318db3",
   "metadata": {},
   "source": [
    "<a id='process'></a>\n",
    "## Data Preprocessing"
   ]
  },
  {
   "cell_type": "code",
   "execution_count": 29,
   "id": "5522439a",
   "metadata": {},
   "outputs": [],
   "source": [
    "def clean_dummy(df1, df2):\n",
    "    \n",
    "    \"\"\"\n",
    "    Concatenate, wrangle and dummy dataframe .\n",
    "    \n",
    "    Parameters: \n",
    "           df1: X train dataframe\n",
    "           df2: X test dataframe\n",
    "    Returns: \n",
    "         X_train: cleaned and dummied X train matrix\n",
    "         X_test: cleaned and dummied X test matrix\n",
    "    \"\"\"\n",
    "    \n",
    "    # Get a copy of the original data\n",
    "    df1 = df1.copy()\n",
    "    df2 = df2.copy()\n",
    "    \n",
    "    # Drop target column\n",
    "    df1.drop('Transported', axis = 1, inplace = True)\n",
    "    \n",
    "    # Concatenate the two dfs together row-wise\n",
    "    df = pd.concat([df1, df2], axis=0, ignore_index=True)\n",
    "    \n",
    "    # Get every numerical columns\n",
    "    for col in df.select_dtypes(\n",
    "        include=[\n",
    "            'float', \n",
    "            'int'\n",
    "        ]\n",
    "    ).columns:\n",
    "            \n",
    "        # Replace NaNs with mean\n",
    "        df[col].fillna(df[col].mean(), inplace=True)\n",
    "    \n",
    "    # Split cabin column and form new columns from it\n",
    "    split_cabin = df.Cabin.str.split('/', expand=True)\n",
    "    df['Cabin_Deck'] =split_cabin.get(0)\n",
    "    df['Cabin_Number'] =split_cabin.get(1)\n",
    "    df['Cabin_Side'] =split_cabin.get(2)\n",
    "    \n",
    "    # Drop Unwanted columns\n",
    "    df.drop(\n",
    "        [\n",
    "            'PassengerId', \n",
    "            'Cabin', \n",
    "            'Name'\n",
    "        ], \n",
    "        axis = 1, \n",
    "        inplace = True\n",
    "    )\n",
    "        \n",
    "    #dummy all the categorical columns\n",
    "    for col in df.select_dtypes(\n",
    "        include=[\n",
    "            'object', \n",
    "            'bool'\n",
    "        ]\n",
    "    ).columns:\n",
    "        df = pd.concat(\n",
    "            [\n",
    "                df.drop(col, axis=1), \n",
    "                pd.get_dummies(\n",
    "                    df[col], \n",
    "                    prefix=col,\n",
    "                    prefix_sep='_', \n",
    "                    drop_first=True, \n",
    "                    dummy_na=True)\n",
    "            ], axis=1\n",
    "        )\n",
    "        \n",
    "    # Split the data back after dummy\n",
    "    X_train = df[:df1.shape[0]]\n",
    "    X_test = df[df1.shape[0]:].reset_index(drop = True)\n",
    "    return X_train, X_test"
   ]
  },
  {
   "cell_type": "code",
   "execution_count": 30,
   "id": "8a88d298",
   "metadata": {},
   "outputs": [],
   "source": [
    "X_train, X_test= clean_dummy(train_df, test_df)"
   ]
  },
  {
   "cell_type": "code",
   "execution_count": 31,
   "id": "638a5ddf",
   "metadata": {},
   "outputs": [
    {
     "data": {
      "text/html": [
       "<div>\n",
       "<style scoped>\n",
       "    .dataframe tbody tr th:only-of-type {\n",
       "        vertical-align: middle;\n",
       "    }\n",
       "\n",
       "    .dataframe tbody tr th {\n",
       "        vertical-align: top;\n",
       "    }\n",
       "\n",
       "    .dataframe thead th {\n",
       "        text-align: right;\n",
       "    }\n",
       "</style>\n",
       "<table border=\"1\" class=\"dataframe\">\n",
       "  <thead>\n",
       "    <tr style=\"text-align: right;\">\n",
       "      <th></th>\n",
       "      <th>Age</th>\n",
       "      <th>RoomService</th>\n",
       "      <th>FoodCourt</th>\n",
       "      <th>ShoppingMall</th>\n",
       "      <th>Spa</th>\n",
       "      <th>VRDeck</th>\n",
       "      <th>HomePlanet_Europa</th>\n",
       "      <th>HomePlanet_Mars</th>\n",
       "      <th>HomePlanet_nan</th>\n",
       "      <th>CryoSleep_True</th>\n",
       "      <th>...</th>\n",
       "      <th>Cabin_Number_993</th>\n",
       "      <th>Cabin_Number_994</th>\n",
       "      <th>Cabin_Number_995</th>\n",
       "      <th>Cabin_Number_996</th>\n",
       "      <th>Cabin_Number_997</th>\n",
       "      <th>Cabin_Number_998</th>\n",
       "      <th>Cabin_Number_999</th>\n",
       "      <th>Cabin_Number_nan</th>\n",
       "      <th>Cabin_Side_S</th>\n",
       "      <th>Cabin_Side_nan</th>\n",
       "    </tr>\n",
       "  </thead>\n",
       "  <tbody>\n",
       "    <tr>\n",
       "      <th>0</th>\n",
       "      <td>39.0</td>\n",
       "      <td>0.0</td>\n",
       "      <td>0.0</td>\n",
       "      <td>0.0</td>\n",
       "      <td>0.0</td>\n",
       "      <td>0.0</td>\n",
       "      <td>1</td>\n",
       "      <td>0</td>\n",
       "      <td>0</td>\n",
       "      <td>0</td>\n",
       "      <td>...</td>\n",
       "      <td>0</td>\n",
       "      <td>0</td>\n",
       "      <td>0</td>\n",
       "      <td>0</td>\n",
       "      <td>0</td>\n",
       "      <td>0</td>\n",
       "      <td>0</td>\n",
       "      <td>0</td>\n",
       "      <td>0</td>\n",
       "      <td>0</td>\n",
       "    </tr>\n",
       "    <tr>\n",
       "      <th>1</th>\n",
       "      <td>24.0</td>\n",
       "      <td>109.0</td>\n",
       "      <td>9.0</td>\n",
       "      <td>25.0</td>\n",
       "      <td>549.0</td>\n",
       "      <td>44.0</td>\n",
       "      <td>0</td>\n",
       "      <td>0</td>\n",
       "      <td>0</td>\n",
       "      <td>0</td>\n",
       "      <td>...</td>\n",
       "      <td>0</td>\n",
       "      <td>0</td>\n",
       "      <td>0</td>\n",
       "      <td>0</td>\n",
       "      <td>0</td>\n",
       "      <td>0</td>\n",
       "      <td>0</td>\n",
       "      <td>0</td>\n",
       "      <td>1</td>\n",
       "      <td>0</td>\n",
       "    </tr>\n",
       "    <tr>\n",
       "      <th>2</th>\n",
       "      <td>58.0</td>\n",
       "      <td>43.0</td>\n",
       "      <td>3576.0</td>\n",
       "      <td>0.0</td>\n",
       "      <td>6715.0</td>\n",
       "      <td>49.0</td>\n",
       "      <td>1</td>\n",
       "      <td>0</td>\n",
       "      <td>0</td>\n",
       "      <td>0</td>\n",
       "      <td>...</td>\n",
       "      <td>0</td>\n",
       "      <td>0</td>\n",
       "      <td>0</td>\n",
       "      <td>0</td>\n",
       "      <td>0</td>\n",
       "      <td>0</td>\n",
       "      <td>0</td>\n",
       "      <td>0</td>\n",
       "      <td>1</td>\n",
       "      <td>0</td>\n",
       "    </tr>\n",
       "    <tr>\n",
       "      <th>3</th>\n",
       "      <td>33.0</td>\n",
       "      <td>0.0</td>\n",
       "      <td>1283.0</td>\n",
       "      <td>371.0</td>\n",
       "      <td>3329.0</td>\n",
       "      <td>193.0</td>\n",
       "      <td>1</td>\n",
       "      <td>0</td>\n",
       "      <td>0</td>\n",
       "      <td>0</td>\n",
       "      <td>...</td>\n",
       "      <td>0</td>\n",
       "      <td>0</td>\n",
       "      <td>0</td>\n",
       "      <td>0</td>\n",
       "      <td>0</td>\n",
       "      <td>0</td>\n",
       "      <td>0</td>\n",
       "      <td>0</td>\n",
       "      <td>1</td>\n",
       "      <td>0</td>\n",
       "    </tr>\n",
       "    <tr>\n",
       "      <th>4</th>\n",
       "      <td>16.0</td>\n",
       "      <td>303.0</td>\n",
       "      <td>70.0</td>\n",
       "      <td>151.0</td>\n",
       "      <td>565.0</td>\n",
       "      <td>2.0</td>\n",
       "      <td>0</td>\n",
       "      <td>0</td>\n",
       "      <td>0</td>\n",
       "      <td>0</td>\n",
       "      <td>...</td>\n",
       "      <td>0</td>\n",
       "      <td>0</td>\n",
       "      <td>0</td>\n",
       "      <td>0</td>\n",
       "      <td>0</td>\n",
       "      <td>0</td>\n",
       "      <td>0</td>\n",
       "      <td>0</td>\n",
       "      <td>1</td>\n",
       "      <td>0</td>\n",
       "    </tr>\n",
       "  </tbody>\n",
       "</table>\n",
       "<p>5 rows × 1920 columns</p>\n",
       "</div>"
      ],
      "text/plain": [
       "    Age  RoomService  FoodCourt  ShoppingMall     Spa  VRDeck  \\\n",
       "0  39.0          0.0        0.0           0.0     0.0     0.0   \n",
       "1  24.0        109.0        9.0          25.0   549.0    44.0   \n",
       "2  58.0         43.0     3576.0           0.0  6715.0    49.0   \n",
       "3  33.0          0.0     1283.0         371.0  3329.0   193.0   \n",
       "4  16.0        303.0       70.0         151.0   565.0     2.0   \n",
       "\n",
       "   HomePlanet_Europa  HomePlanet_Mars  HomePlanet_nan  CryoSleep_True  ...  \\\n",
       "0                  1                0               0               0  ...   \n",
       "1                  0                0               0               0  ...   \n",
       "2                  1                0               0               0  ...   \n",
       "3                  1                0               0               0  ...   \n",
       "4                  0                0               0               0  ...   \n",
       "\n",
       "   Cabin_Number_993  Cabin_Number_994  Cabin_Number_995  Cabin_Number_996  \\\n",
       "0                 0                 0                 0                 0   \n",
       "1                 0                 0                 0                 0   \n",
       "2                 0                 0                 0                 0   \n",
       "3                 0                 0                 0                 0   \n",
       "4                 0                 0                 0                 0   \n",
       "\n",
       "   Cabin_Number_997  Cabin_Number_998  Cabin_Number_999  Cabin_Number_nan  \\\n",
       "0                 0                 0                 0                 0   \n",
       "1                 0                 0                 0                 0   \n",
       "2                 0                 0                 0                 0   \n",
       "3                 0                 0                 0                 0   \n",
       "4                 0                 0                 0                 0   \n",
       "\n",
       "   Cabin_Side_S  Cabin_Side_nan  \n",
       "0             0               0  \n",
       "1             1               0  \n",
       "2             1               0  \n",
       "3             1               0  \n",
       "4             1               0  \n",
       "\n",
       "[5 rows x 1920 columns]"
      ]
     },
     "execution_count": 31,
     "metadata": {},
     "output_type": "execute_result"
    }
   ],
   "source": [
    "# Check X_train\n",
    "X_train.head()"
   ]
  },
  {
   "cell_type": "code",
   "execution_count": 32,
   "id": "f7188977",
   "metadata": {},
   "outputs": [
    {
     "data": {
      "text/plain": [
       "(8693, 1920)"
      ]
     },
     "execution_count": 32,
     "metadata": {},
     "output_type": "execute_result"
    }
   ],
   "source": [
    "# Check X_train shape\n",
    "X_train.shape"
   ]
  },
  {
   "cell_type": "code",
   "execution_count": 33,
   "id": "bc87389e",
   "metadata": {},
   "outputs": [
    {
     "data": {
      "text/html": [
       "<div>\n",
       "<style scoped>\n",
       "    .dataframe tbody tr th:only-of-type {\n",
       "        vertical-align: middle;\n",
       "    }\n",
       "\n",
       "    .dataframe tbody tr th {\n",
       "        vertical-align: top;\n",
       "    }\n",
       "\n",
       "    .dataframe thead th {\n",
       "        text-align: right;\n",
       "    }\n",
       "</style>\n",
       "<table border=\"1\" class=\"dataframe\">\n",
       "  <thead>\n",
       "    <tr style=\"text-align: right;\">\n",
       "      <th></th>\n",
       "      <th>Age</th>\n",
       "      <th>RoomService</th>\n",
       "      <th>FoodCourt</th>\n",
       "      <th>ShoppingMall</th>\n",
       "      <th>Spa</th>\n",
       "      <th>VRDeck</th>\n",
       "      <th>HomePlanet_Europa</th>\n",
       "      <th>HomePlanet_Mars</th>\n",
       "      <th>HomePlanet_nan</th>\n",
       "      <th>CryoSleep_True</th>\n",
       "      <th>...</th>\n",
       "      <th>Cabin_Number_993</th>\n",
       "      <th>Cabin_Number_994</th>\n",
       "      <th>Cabin_Number_995</th>\n",
       "      <th>Cabin_Number_996</th>\n",
       "      <th>Cabin_Number_997</th>\n",
       "      <th>Cabin_Number_998</th>\n",
       "      <th>Cabin_Number_999</th>\n",
       "      <th>Cabin_Number_nan</th>\n",
       "      <th>Cabin_Side_S</th>\n",
       "      <th>Cabin_Side_nan</th>\n",
       "    </tr>\n",
       "  </thead>\n",
       "  <tbody>\n",
       "    <tr>\n",
       "      <th>0</th>\n",
       "      <td>27.0</td>\n",
       "      <td>0.0</td>\n",
       "      <td>0.0</td>\n",
       "      <td>0.0</td>\n",
       "      <td>0.0</td>\n",
       "      <td>0.0</td>\n",
       "      <td>0</td>\n",
       "      <td>0</td>\n",
       "      <td>0</td>\n",
       "      <td>1</td>\n",
       "      <td>...</td>\n",
       "      <td>0</td>\n",
       "      <td>0</td>\n",
       "      <td>0</td>\n",
       "      <td>0</td>\n",
       "      <td>0</td>\n",
       "      <td>0</td>\n",
       "      <td>0</td>\n",
       "      <td>0</td>\n",
       "      <td>1</td>\n",
       "      <td>0</td>\n",
       "    </tr>\n",
       "    <tr>\n",
       "      <th>1</th>\n",
       "      <td>19.0</td>\n",
       "      <td>0.0</td>\n",
       "      <td>9.0</td>\n",
       "      <td>0.0</td>\n",
       "      <td>2823.0</td>\n",
       "      <td>0.0</td>\n",
       "      <td>0</td>\n",
       "      <td>0</td>\n",
       "      <td>0</td>\n",
       "      <td>0</td>\n",
       "      <td>...</td>\n",
       "      <td>0</td>\n",
       "      <td>0</td>\n",
       "      <td>0</td>\n",
       "      <td>0</td>\n",
       "      <td>0</td>\n",
       "      <td>0</td>\n",
       "      <td>0</td>\n",
       "      <td>0</td>\n",
       "      <td>1</td>\n",
       "      <td>0</td>\n",
       "    </tr>\n",
       "    <tr>\n",
       "      <th>2</th>\n",
       "      <td>31.0</td>\n",
       "      <td>0.0</td>\n",
       "      <td>0.0</td>\n",
       "      <td>0.0</td>\n",
       "      <td>0.0</td>\n",
       "      <td>0.0</td>\n",
       "      <td>1</td>\n",
       "      <td>0</td>\n",
       "      <td>0</td>\n",
       "      <td>1</td>\n",
       "      <td>...</td>\n",
       "      <td>0</td>\n",
       "      <td>0</td>\n",
       "      <td>0</td>\n",
       "      <td>0</td>\n",
       "      <td>0</td>\n",
       "      <td>0</td>\n",
       "      <td>0</td>\n",
       "      <td>0</td>\n",
       "      <td>1</td>\n",
       "      <td>0</td>\n",
       "    </tr>\n",
       "    <tr>\n",
       "      <th>3</th>\n",
       "      <td>38.0</td>\n",
       "      <td>0.0</td>\n",
       "      <td>6652.0</td>\n",
       "      <td>0.0</td>\n",
       "      <td>181.0</td>\n",
       "      <td>585.0</td>\n",
       "      <td>1</td>\n",
       "      <td>0</td>\n",
       "      <td>0</td>\n",
       "      <td>0</td>\n",
       "      <td>...</td>\n",
       "      <td>0</td>\n",
       "      <td>0</td>\n",
       "      <td>0</td>\n",
       "      <td>0</td>\n",
       "      <td>0</td>\n",
       "      <td>0</td>\n",
       "      <td>0</td>\n",
       "      <td>0</td>\n",
       "      <td>1</td>\n",
       "      <td>0</td>\n",
       "    </tr>\n",
       "    <tr>\n",
       "      <th>4</th>\n",
       "      <td>20.0</td>\n",
       "      <td>10.0</td>\n",
       "      <td>0.0</td>\n",
       "      <td>635.0</td>\n",
       "      <td>0.0</td>\n",
       "      <td>0.0</td>\n",
       "      <td>0</td>\n",
       "      <td>0</td>\n",
       "      <td>0</td>\n",
       "      <td>0</td>\n",
       "      <td>...</td>\n",
       "      <td>0</td>\n",
       "      <td>0</td>\n",
       "      <td>0</td>\n",
       "      <td>0</td>\n",
       "      <td>0</td>\n",
       "      <td>0</td>\n",
       "      <td>0</td>\n",
       "      <td>0</td>\n",
       "      <td>1</td>\n",
       "      <td>0</td>\n",
       "    </tr>\n",
       "  </tbody>\n",
       "</table>\n",
       "<p>5 rows × 1920 columns</p>\n",
       "</div>"
      ],
      "text/plain": [
       "    Age  RoomService  FoodCourt  ShoppingMall     Spa  VRDeck  \\\n",
       "0  27.0          0.0        0.0           0.0     0.0     0.0   \n",
       "1  19.0          0.0        9.0           0.0  2823.0     0.0   \n",
       "2  31.0          0.0        0.0           0.0     0.0     0.0   \n",
       "3  38.0          0.0     6652.0           0.0   181.0   585.0   \n",
       "4  20.0         10.0        0.0         635.0     0.0     0.0   \n",
       "\n",
       "   HomePlanet_Europa  HomePlanet_Mars  HomePlanet_nan  CryoSleep_True  ...  \\\n",
       "0                  0                0               0               1  ...   \n",
       "1                  0                0               0               0  ...   \n",
       "2                  1                0               0               1  ...   \n",
       "3                  1                0               0               0  ...   \n",
       "4                  0                0               0               0  ...   \n",
       "\n",
       "   Cabin_Number_993  Cabin_Number_994  Cabin_Number_995  Cabin_Number_996  \\\n",
       "0                 0                 0                 0                 0   \n",
       "1                 0                 0                 0                 0   \n",
       "2                 0                 0                 0                 0   \n",
       "3                 0                 0                 0                 0   \n",
       "4                 0                 0                 0                 0   \n",
       "\n",
       "   Cabin_Number_997  Cabin_Number_998  Cabin_Number_999  Cabin_Number_nan  \\\n",
       "0                 0                 0                 0                 0   \n",
       "1                 0                 0                 0                 0   \n",
       "2                 0                 0                 0                 0   \n",
       "3                 0                 0                 0                 0   \n",
       "4                 0                 0                 0                 0   \n",
       "\n",
       "   Cabin_Side_S  Cabin_Side_nan  \n",
       "0             1               0  \n",
       "1             1               0  \n",
       "2             1               0  \n",
       "3             1               0  \n",
       "4             1               0  \n",
       "\n",
       "[5 rows x 1920 columns]"
      ]
     },
     "execution_count": 33,
     "metadata": {},
     "output_type": "execute_result"
    }
   ],
   "source": [
    "# Check X_test\n",
    "X_test.head()"
   ]
  },
  {
   "cell_type": "code",
   "execution_count": 34,
   "id": "40c773c5",
   "metadata": {},
   "outputs": [
    {
     "data": {
      "text/plain": [
       "(4277, 1920)"
      ]
     },
     "execution_count": 34,
     "metadata": {},
     "output_type": "execute_result"
    }
   ],
   "source": [
    "# Check X_test shape\n",
    "X_test.shape"
   ]
  },
  {
   "cell_type": "code",
   "execution_count": 35,
   "id": "2dfd47e8",
   "metadata": {},
   "outputs": [],
   "source": [
    "# Dummy target column\n",
    "y_test = sample_df.Transported.map(\n",
    "    {\n",
    "        False: 0, \n",
    "        True: 1\n",
    "    }\n",
    ")\n",
    "y_train = train_df.Transported.map(\n",
    "    {\n",
    "        False: 0, \n",
    "        True: 1\n",
    "    }\n",
    ")"
   ]
  },
  {
   "cell_type": "markdown",
   "id": "f589ea42",
   "metadata": {},
   "source": [
    "<a id='model'></a>\n",
    "## Modeling"
   ]
  },
  {
   "cell_type": "code",
   "execution_count": 36,
   "id": "1cb67964",
   "metadata": {
    "scrolled": true
   },
   "outputs": [
    {
     "name": "stdout",
     "output_type": "stream",
     "text": [
      "Test Score ...\n",
      "f1 score: 0.5040916530278232\n",
      "Train Score ...\n",
      "f1 score: 0.9995398596571955\n"
     ]
    }
   ],
   "source": [
    "def create_rf_model(X_train, X_test, y_train, y_test):\n",
    "    \n",
    "    \"\"\"\n",
    "    Create a random forest classifier and predict.\n",
    "    \n",
    "    Parameters: \n",
    "        X_ train, X_test - pandas dataframe, X matrix\n",
    "        y_train, y_test - pandas dataframe, response variable\n",
    "    Returns: \n",
    "        None\n",
    "    \"\"\"\n",
    "    \n",
    "    # Instantiate Sclassifier\n",
    "    rf_model = RandomForestClassifier() \n",
    "    rf_model.fit(X_train, y_train) #Fit\n",
    "\n",
    "    #Predict test data\n",
    "    y_test_preds = rf_model.predict(X_test)\n",
    "    \n",
    "    # Predict train data\n",
    "    y_train_preds = rf_model.predict(X_train)\n",
    "\n",
    "    #Score the model\n",
    "    \n",
    "    print('Test Score ...')\n",
    "    print('f1 score:', f1_score(y_test, y_test_preds, average= 'micro'))\n",
    "    \n",
    "    print('Train Score ...')\n",
    "    print('f1 score:', f1_score(y_train, y_train_preds, average= 'micro'))\n",
    "    \n",
    "create_rf_model(X_train, X_test, y_train, y_test)"
   ]
  },
  {
   "cell_type": "code",
   "execution_count": 37,
   "id": "4feb7314",
   "metadata": {},
   "outputs": [],
   "source": [
    "def find_optimal_rf_mod(cutoffs, X_train, X_test, y_train, y_test, plot=True):\n",
    "    '''\n",
    "    INPUT\n",
    "    X - pandas dataframe, X matrix\n",
    "    y - pandas dataframe, response variable\n",
    "    cutoffs - list of ints, cutoff for number of non-zero values in dummy categorical vars\n",
    "    plot - boolean, default 0.3, True to plot result\n",
    "\n",
    "    OUTPUT\n",
    "    r1_scores_test - list of floats of r1 scores on the test data\n",
    "    r1_scores_train - list of floats of r1 scores on the train data\n",
    "    rf_model - model object from sklearn\n",
    "    X_train, X_test, best_cutoff - X matrices and the best cutoff for optimal model\n",
    "    '''\n",
    "    f1_scores_test, f1_scores_train, num_feats = [], [], []\n",
    "    \n",
    "    # Concatenate dataframes row-wise\n",
    "    X_concat = pd.concat([X_train, X_test], ignore_index=True)\n",
    "    for cutoff in cutoffs:\n",
    "\n",
    "        # Reduce X matrix\n",
    "        \n",
    "        reduce_X = X_concat.iloc[:, np.where((X_concat.sum() > cutoff) == True)[0]]\n",
    "        num_feats.append(reduce_X.shape[1])\n",
    "\n",
    "        # Split the data back into train and test\n",
    "        X_train = reduce_X[0: 8693]\n",
    "        X_test = reduce_X[8693:]\n",
    "\n",
    "        # Fit the model and obtain pred response\n",
    "        rf_model = RandomForestClassifier()\n",
    "        rf_model.fit(X_train, y_train)\n",
    "        y_test_preds = rf_model.predict(X_test)\n",
    "        y_train_preds = rf_model.predict(X_train)\n",
    "\n",
    "        # Append the f1 value from the test set\n",
    "        f1_scores_test.append(f1_score(y_test, y_test_preds, average= 'micro'))\n",
    "        f1_scores_train.append(f1_score(y_train, y_train_preds, average= 'micro'))\n",
    "    \n",
    "    # Get the best cutoff value\n",
    "    best_cutoff = cutoffs[np.where(np.array(f1_scores_test) == np.array(f1_scores_test).max())[0][0]]\n",
    "        \n",
    "    if plot:\n",
    "        plt.plot(num_feats, f1_scores_test, label=\"Test\")\n",
    "        plt.plot(num_feats, f1_scores_train, label=\"Train\")\n",
    "        plt.xlabel('Number of Features')\n",
    "        plt.ylabel('F1 score')\n",
    "        plt.title('F1 score by Number of Features')\n",
    "        plt.legend(loc=4)\n",
    "        plt.grid()\n",
    "        plt.show()\n",
    "        plt.savefig('reduce_dinension.png');\n",
    "\n",
    "    return X_train, X_test, best_cutoff"
   ]
  },
  {
   "cell_type": "code",
   "execution_count": 38,
   "id": "f6c40c6f",
   "metadata": {
    "scrolled": false
   },
   "outputs": [
    {
     "data": {
      "image/png": "[encoded data removed]",
      "text/plain": [
       "<Figure size 640x480 with 1 Axes>"
      ]
     },
     "metadata": {},
     "output_type": "display_data"
    },
    {
     "data": {
      "text/plain": [
       "<Figure size 640x480 with 0 Axes>"
      ]
     },
     "metadata": {},
     "output_type": "display_data"
    }
   ],
   "source": [
    "#cutoffs here pertains to the number of missing values allowed in the used columns.\n",
    "#Therefore, lower values for the cutoff provides more predictors in the model.\n",
    "\n",
    "cutoffs = [70000, 5000, 3000, 1500, 500, 50, 25, 20, 18, 17, 16, 15, 5]\n",
    "\n",
    "X_train_opt, X_test_opt, best_cutoff= find_optimal_rf_mod(cutoffs, X_train, X_test, y_train, y_test)"
   ]
  },
  {
   "cell_type": "code",
   "execution_count": 39,
   "id": "d0358700",
   "metadata": {},
   "outputs": [
    {
     "data": {
      "text/plain": [
       "20"
      ]
     },
     "execution_count": 39,
     "metadata": {},
     "output_type": "execute_result"
    }
   ],
   "source": [
    "# Print best cutoff value\n",
    "best_cutoff"
   ]
  },
  {
   "cell_type": "markdown",
   "id": "6e98e8c6",
   "metadata": {},
   "source": [
    "The plot above shows different f1 scores based on the number of features. As the number of features increases, the score improves. Test score peaks at about 0.53 with 100 features. Beyond this, the plot flattens and tends to slope a little downwards as features increase. Train score increases progressively as features increase."
   ]
  },
  {
   "cell_type": "code",
   "execution_count": 40,
   "id": "b3408993",
   "metadata": {},
   "outputs": [
    {
     "name": "stdout",
     "output_type": "stream",
     "text": [
      "Improved Test Score ...\n",
      "f1 score test...: 0.5707271451952303\n",
      "Best Parameters: {'max_depth': 30, 'min_samples_leaf': 2, 'min_samples_split': 3}\n",
      "Improved Train Score ...\n",
      "f1 score train...: 0.7733808811687565\n"
     ]
    }
   ],
   "source": [
    "def improve_rf_model_1(X_train, X_test ,y_train,y_test):\n",
    "    \n",
    "    \"\"\"\n",
    "    Improve model with hyperparameters.\n",
    "    \n",
    "    Parameters: \n",
    "           X_train: X metrix for training the model\n",
    "           X_test: X matrix for prediction\n",
    "           y_train: y matrix for training the model\n",
    "           y_test: y matrix for testing the model's performance\n",
    "    Returns: \n",
    "         df\n",
    "    \"\"\"\n",
    "    \n",
    "    parameters = {\n",
    "        \n",
    "        'n_estimators':[100, 300],\n",
    "        'min_samples_split' : [5,10,15],\n",
    "        'min_samples_leaf' : [4,6,8],\n",
    "        'max_depth': [30, 40]\n",
    "    }\n",
    "    \n",
    "    # Instatiate gridsearch\n",
    "    cv = GridSearchCV(\n",
    "        RandomForestClassifier(), \n",
    "        param_grid=parameters\n",
    "    ) \n",
    "    \n",
    "    #Fit gridsearch\n",
    "    cv.fit(X_train, y_train)\n",
    "    \n",
    "    # Predict X_test\n",
    "    y_test_preds_cv = cv.predict(X_test)\n",
    "    \n",
    "    # Predict X_train\n",
    "    y_train_preds_cv = cv.predict(X_train)\n",
    "    \n",
    "    print('Improved Test Score ...')\n",
    "    print('f1 score test...:', f1_score(y_test, y_test_preds_cv, average= 'micro'))\n",
    "    \n",
    "    print(\"Best Parameters:\", cv.best_params_)\n",
    "    \n",
    "    print('Improved Train Score ...')\n",
    "    print('f1 score train...:', f1_score(y_train, y_train_preds_cv, average= 'micro'))\n",
    "    \n",
    "improve_rf_model_1(X_train, X_test, y_train, y_test)"
   ]
  },
  {
   "cell_type": "code",
   "execution_count": 41,
   "id": "abedca48",
   "metadata": {},
   "outputs": [
    {
     "name": "stdout",
     "output_type": "stream",
     "text": [
      "Improved Test Score ...\n",
      "f1 score test...: 0.5711947626841244\n",
      "Best Parameters: {'max_depth': 40, 'min_samples_leaf': 4, 'min_samples_split': 15, 'n_estimators': 100}\n",
      "Improved Train Score ...\n",
      "f1 score train...: 0.7562406533992868\n"
     ]
    }
   ],
   "source": [
    "def improve_rf_model_2(X_train, X_test ,y_train,y_test):\n",
    "    \n",
    "    \"\"\"\n",
    "    Improve model using with reduced features.\n",
    "    \n",
    "    Parameters: \n",
    "           optimum train and test data\n",
    "    Returns: \n",
    "         df\n",
    "    \"\"\"\n",
    "    \n",
    "    parameters = {\n",
    "        \n",
    "        'n_estimators':[100, 300],\n",
    "        'min_samples_split' : [5,10,15],\n",
    "        'min_samples_leaf' : [4,6,8],\n",
    "        'max_depth': [30, 40]\n",
    "    }\n",
    "    \n",
    "    # Instatiate gridsearch\n",
    "    cv = GridSearchCV(\n",
    "        RandomForestClassifier(), \n",
    "        param_grid=parameters\n",
    "    ) \n",
    "    \n",
    "    #Fit gridsearch\n",
    "    cv.fit(X_train, y_train)\n",
    "    \n",
    "    # Predict X_test\n",
    "    y_test_preds_cv = cv.predict(X_test)\n",
    "    \n",
    "    # Predict X_train\n",
    "    y_train_preds_cv = cv.predict(X_train)\n",
    "    \n",
    "    print('Improved Test Score ...')\n",
    "    print('f1 score test...:', f1_score(y_test, y_test_preds_cv, average= 'micro'))\n",
    "    \n",
    "    print(\"Best Parameters:\", cv.best_params_)\n",
    "    \n",
    "    print('Improved Train Score ...')\n",
    "    print('f1 score train...:', f1_score(y_train, y_train_preds_cv, average= 'micro'))\n",
    "    \n",
    "    return y_test_preds_cv\n",
    "y_test_preds_cv = improve_rf_model_2(X_train_opt, X_test_opt, y_train, y_test)"
   ]
  },
  {
   "cell_type": "code",
   "execution_count": 42,
   "id": "2bc08ad6",
   "metadata": {},
   "outputs": [],
   "source": [
    "def create_dataframe(y_pred,  df):\n",
    "    \n",
    "    \"\"\"\n",
    "    Form a dataframe and append result and save it.\n",
    "    \n",
    "    Parameters: \n",
    "           y_pred: predicted result\n",
    "           df: sample_df\n",
    "    Returns: \n",
    "         df\n",
    "    \"\"\"\n",
    "    \n",
    "    result_df = pd.DataFrame(\n",
    "        columns=[\n",
    "            'PassengerId', \n",
    "            'Transported'\n",
    "        ]\n",
    "    )\n",
    "    result_df.loc[:, 'PassengerId'] = df.PassengerId\n",
    "    result_df.loc[:, 'Transported'] = y_pred\n",
    "    result_df.to_csv('result.csv', index = False)\n",
    "    return result_df\n",
    "    \n",
    "result_df = create_dataframe(y_test_preds_cv, sample_df)"
   ]
  },
  {
   "cell_type": "code",
   "execution_count": 43,
   "id": "56445914",
   "metadata": {},
   "outputs": [
    {
     "data": {
      "text/html": [
       "<div>\n",
       "<style scoped>\n",
       "    .dataframe tbody tr th:only-of-type {\n",
       "        vertical-align: middle;\n",
       "    }\n",
       "\n",
       "    .dataframe tbody tr th {\n",
       "        vertical-align: top;\n",
       "    }\n",
       "\n",
       "    .dataframe thead th {\n",
       "        text-align: right;\n",
       "    }\n",
       "</style>\n",
       "<table border=\"1\" class=\"dataframe\">\n",
       "  <thead>\n",
       "    <tr style=\"text-align: right;\">\n",
       "      <th></th>\n",
       "      <th>PassengerId</th>\n",
       "      <th>Transported</th>\n",
       "    </tr>\n",
       "  </thead>\n",
       "  <tbody>\n",
       "    <tr>\n",
       "      <th>0</th>\n",
       "      <td>0013_01</td>\n",
       "      <td>1</td>\n",
       "    </tr>\n",
       "    <tr>\n",
       "      <th>1</th>\n",
       "      <td>0018_01</td>\n",
       "      <td>0</td>\n",
       "    </tr>\n",
       "    <tr>\n",
       "      <th>2</th>\n",
       "      <td>0019_01</td>\n",
       "      <td>1</td>\n",
       "    </tr>\n",
       "    <tr>\n",
       "      <th>3</th>\n",
       "      <td>0021_01</td>\n",
       "      <td>1</td>\n",
       "    </tr>\n",
       "    <tr>\n",
       "      <th>4</th>\n",
       "      <td>0023_01</td>\n",
       "      <td>0</td>\n",
       "    </tr>\n",
       "  </tbody>\n",
       "</table>\n",
       "</div>"
      ],
      "text/plain": [
       "  PassengerId  Transported\n",
       "0     0013_01            1\n",
       "1     0018_01            0\n",
       "2     0019_01            1\n",
       "3     0021_01            1\n",
       "4     0023_01            0"
      ]
     },
     "execution_count": 43,
     "metadata": {},
     "output_type": "execute_result"
    }
   ],
   "source": [
    "# Check result_df\n",
    "result_df.head()"
   ]
  },
  {
   "cell_type": "code",
   "execution_count": 44,
   "id": "2a130f96",
   "metadata": {},
   "outputs": [
    {
     "data": {
      "text/plain": [
       "PassengerId         inf\n",
       "Transported    0.428805\n",
       "dtype: float64"
      ]
     },
     "execution_count": 44,
     "metadata": {},
     "output_type": "execute_result"
    }
   ],
   "source": [
    "# Check how much data is explained by the model\n",
    "result_df.mean()"
   ]
  },
  {
   "cell_type": "code",
   "execution_count": 45,
   "id": "7fbd52d4",
   "metadata": {},
   "outputs": [
    {
     "data": {
      "image/png": "[encoded data removed]",
      "text/plain": [
       "<Figure size 640x480 with 1 Axes>"
      ]
     },
     "metadata": {},
     "output_type": "display_data"
    }
   ],
   "source": [
    "def result_plot():\n",
    "    \n",
    "    \"\"\"\n",
    "    Plot a bar graph of predicted values in the result_df.\n",
    "    \n",
    "    Parameters: \n",
    "           None\n",
    "    Returns: \n",
    "         None\n",
    "    \"\"\"\n",
    "    result_df.Transported.value_counts().plot(kind = 'bar');\n",
    "    plt.xlabel('Values');\n",
    "    plt.xticks(rotation = 0)\n",
    "    plt.ylabel('Count');\n",
    "\n",
    "    plt.title('Predicted Result');\n",
    "    plt.savefig('result_plot.png');\n",
    "result_plot()"
   ]
  },
  {
   "cell_type": "markdown",
   "id": "94b49f67",
   "metadata": {},
   "source": [
    "The bar graph above shows the amount of data explained by my model. 0 represents False, 1 represents True.  About 2500 values are predicted correctly as False and about 1800 values are predicted wrongly as True. This is as expected due to the discrepancy in the trends noted earlier."
   ]
  },
  {
   "cell_type": "markdown",
   "id": "01c19bbf",
   "metadata": {},
   "source": [
    "<a id='conclude'></a>\n",
    "## Conclusion\n",
    "\n",
    "The main task of this project was to predict the value of Transported for the passengers in the test data set. During the process, the following points were observed:\n",
    "1. While EDA was conducted, it was observed that all other features maintained similar trends except Transported columns. This is a possible reason my model performed poorly on the test data\n",
    "2. My initial f1 score was 0.5040. It became better after feature reduction with a score of 0.5711 "
   ]
  }
 ],
 "metadata": {
  "kernelspec": {
   "display_name": "Python 3 (ipykernel)",
   "language": "python",
   "name": "python3"
  },
  "language_info": {
   "codemirror_mode": {
    "name": "ipython",
    "version": 3
   },
   "file_extension": ".py",
   "mimetype": "text/x-python",
   "name": "python",
   "nbconvert_exporter": "python",
   "pygments_lexer": "ipython3",
   "version": "3.8.13"
  }
 },
 "nbformat": 4,
 "nbformat_minor": 5
}
